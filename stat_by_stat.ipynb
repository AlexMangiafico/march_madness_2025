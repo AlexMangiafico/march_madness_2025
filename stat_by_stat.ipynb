{
 "cells": [
  {
   "cell_type": "code",
   "id": "initial_id",
   "metadata": {
    "collapsed": true,
    "ExecuteTime": {
     "end_time": "2025-02-24T22:50:20.625659Z",
     "start_time": "2025-02-24T22:50:20.623594Z"
    }
   },
   "source": [
    "#The premise here is that we want to predict the stats that a team will put up in a particular game\n",
    "\n",
    "#Predict based on the last game -- too simple\n",
    "#Predict based on all games to date -- early season will have few predictors\n",
    "#Predict based on all other games -- predicting based on later performances seems fine, we just need to assume games order independent\n",
    "#But that still leaves us with strength of schedule concerns\n",
    "#We could just include strength of schedule/conference at the end\n",
    "#Or we could try to select only similar teams when we predict how many rebounds etc a team will get in a game\n",
    "#See how many rebounds an opponent has given up per game\n",
    "#Linear regression based on what other teams our main team has played or some knn grouping or something\n",
    "import pandas as pd\n",
    "import numpy as np"
   ],
   "outputs": [],
   "execution_count": 7
  },
  {
   "metadata": {
    "ExecuteTime": {
     "end_time": "2025-02-24T22:45:13.076318Z",
     "start_time": "2025-02-24T22:45:13.019923Z"
    }
   },
   "cell_type": "code",
   "source": [
    "compact_results = pd.read_csv('data/men/MRegularSeasonCompactResults.csv')\n",
    "compact_results.head()"
   ],
   "id": "c09a702abf5d2821",
   "outputs": [
    {
     "data": {
      "text/plain": [
       "   Season  DayNum  WTeamID  WScore  LTeamID  LScore WLoc  NumOT\n",
       "0    1985      20     1228      81     1328      64    N      0\n",
       "1    1985      25     1106      77     1354      70    H      0\n",
       "2    1985      25     1112      63     1223      56    H      0\n",
       "3    1985      25     1165      70     1432      54    H      0\n",
       "4    1985      25     1192      86     1447      74    H      0"
      ],
      "text/html": [
       "<div>\n",
       "<style scoped>\n",
       "    .dataframe tbody tr th:only-of-type {\n",
       "        vertical-align: middle;\n",
       "    }\n",
       "\n",
       "    .dataframe tbody tr th {\n",
       "        vertical-align: top;\n",
       "    }\n",
       "\n",
       "    .dataframe thead th {\n",
       "        text-align: right;\n",
       "    }\n",
       "</style>\n",
       "<table border=\"1\" class=\"dataframe\">\n",
       "  <thead>\n",
       "    <tr style=\"text-align: right;\">\n",
       "      <th></th>\n",
       "      <th>Season</th>\n",
       "      <th>DayNum</th>\n",
       "      <th>WTeamID</th>\n",
       "      <th>WScore</th>\n",
       "      <th>LTeamID</th>\n",
       "      <th>LScore</th>\n",
       "      <th>WLoc</th>\n",
       "      <th>NumOT</th>\n",
       "    </tr>\n",
       "  </thead>\n",
       "  <tbody>\n",
       "    <tr>\n",
       "      <th>0</th>\n",
       "      <td>1985</td>\n",
       "      <td>20</td>\n",
       "      <td>1228</td>\n",
       "      <td>81</td>\n",
       "      <td>1328</td>\n",
       "      <td>64</td>\n",
       "      <td>N</td>\n",
       "      <td>0</td>\n",
       "    </tr>\n",
       "    <tr>\n",
       "      <th>1</th>\n",
       "      <td>1985</td>\n",
       "      <td>25</td>\n",
       "      <td>1106</td>\n",
       "      <td>77</td>\n",
       "      <td>1354</td>\n",
       "      <td>70</td>\n",
       "      <td>H</td>\n",
       "      <td>0</td>\n",
       "    </tr>\n",
       "    <tr>\n",
       "      <th>2</th>\n",
       "      <td>1985</td>\n",
       "      <td>25</td>\n",
       "      <td>1112</td>\n",
       "      <td>63</td>\n",
       "      <td>1223</td>\n",
       "      <td>56</td>\n",
       "      <td>H</td>\n",
       "      <td>0</td>\n",
       "    </tr>\n",
       "    <tr>\n",
       "      <th>3</th>\n",
       "      <td>1985</td>\n",
       "      <td>25</td>\n",
       "      <td>1165</td>\n",
       "      <td>70</td>\n",
       "      <td>1432</td>\n",
       "      <td>54</td>\n",
       "      <td>H</td>\n",
       "      <td>0</td>\n",
       "    </tr>\n",
       "    <tr>\n",
       "      <th>4</th>\n",
       "      <td>1985</td>\n",
       "      <td>25</td>\n",
       "      <td>1192</td>\n",
       "      <td>86</td>\n",
       "      <td>1447</td>\n",
       "      <td>74</td>\n",
       "      <td>H</td>\n",
       "      <td>0</td>\n",
       "    </tr>\n",
       "  </tbody>\n",
       "</table>\n",
       "</div>"
      ]
     },
     "execution_count": 3,
     "metadata": {},
     "output_type": "execute_result"
    }
   ],
   "execution_count": 3
  },
  {
   "metadata": {
    "ExecuteTime": {
     "end_time": "2025-02-25T21:32:50.263039Z",
     "start_time": "2025-02-25T21:32:50.256928Z"
    }
   },
   "cell_type": "code",
   "source": [
    "compact_results['Team1ID'] = np.minimum(compact_results['WTeamID'].astype(int), compact_results['LTeamID'].astype(int))\n",
    "compact_results['Team2ID'] = np.maximum(compact_results['WTeamID'].astype(int), compact_results['LTeamID'].astype(int))\n",
    "compact_results['Team1Score'] = np.where(compact_results['Team1ID'] == compact_results['WTeamID'], compact_results['WScore'], compact_results['LScore'])\n",
    "compact_results['Team2Score'] = np.where(compact_results['Team2ID'] == compact_results['WTeamID'], compact_results['WScore'], compact_results['LScore'])\n",
    "compact_results['Team1Loc'] = np.where(compact_results['Team1ID'] == compact_results['WTeamID'], compact_results['WLoc'], np.where(compact_results['WLoc'] == 'H', 'A', np.where(compact_results['WLoc'] == 'A', 'H', 'N')))\n",
    "compact_results\n",
    "compact_results['Team2Loc'] = np.where(compact_results['Team1Loc'] == 'H', 'A', np.where(compact_results['Team1Loc'] == 'A', 'H', 'N'))\n",
    "compact_results['Team1Margin'] = compact_results['Team1Score'] - compact_results['Team2Score']\n",
    "compact_results['Team2Margin'] = compact_results['Team2Score'] - compact_results['Team1Score']\n",
    "compact_results.drop(['WTeamID', 'LTeamID', 'WScore', 'LScore', 'WLoc'], axis=1, inplace=True)\n",
    "compact_results"
   ],
   "id": "c521a14a5588b060",
   "outputs": [],
   "execution_count": null
  },
  {
   "metadata": {},
   "cell_type": "code",
   "outputs": [],
   "execution_count": null,
   "source": "",
   "id": "87881d40ff588cdf"
  }
 ],
 "metadata": {
  "kernelspec": {
   "display_name": "Python 3",
   "language": "python",
   "name": "python3"
  },
  "language_info": {
   "codemirror_mode": {
    "name": "ipython",
    "version": 2
   },
   "file_extension": ".py",
   "mimetype": "text/x-python",
   "name": "python",
   "nbconvert_exporter": "python",
   "pygments_lexer": "ipython2",
   "version": "2.7.6"
  }
 },
 "nbformat": 4,
 "nbformat_minor": 5
}
