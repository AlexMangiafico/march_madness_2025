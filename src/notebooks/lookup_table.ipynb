{
 "cells": [
  {
   "cell_type": "code",
   "id": "initial_id",
   "metadata": {
    "collapsed": true,
    "ExecuteTime": {
     "end_time": "2025-04-16T20:46:26.117229Z",
     "start_time": "2025-04-16T20:46:26.112807Z"
    }
   },
   "source": [
    "import pandas as pd\n",
    "\n",
    "df = pd.DataFrame({\n",
    "    'Team': ['UConn', 'Iowa', 'South Carolina'],\n",
    "    'WinProb': [0.85, 0.67, 0.92]\n",
    "})\n",
    "df.to_json('data.json', orient='records')"
   ],
   "outputs": [],
   "execution_count": 1
  },
  {
   "metadata": {
    "ExecuteTime": {
     "end_time": "2025-04-16T22:05:36.569462Z",
     "start_time": "2025-04-16T22:05:35.577923Z"
    }
   },
   "cell_type": "code",
   "source": [
    "m_predictions = pd.read_csv('../stored_csvs/m_lr_model_predictions.csv')\n",
    "m_year_predictions = m_predictions[m_predictions['Season'] == 2025]\n",
    "m_teams = pd.read_csv('../kaggle_data/men/MTeams.csv')\n",
    "m_opp_teams = m_teams.copy().rename(columns = {'TeamID': 'OppTeamID', 'TeamName': 'OppTeamName'})\n",
    "m_year_predictions = m_year_predictions.merge(m_teams[['TeamID', 'TeamName']], how = 'left', on = 'TeamID')\n",
    "m_year_predictions = m_year_predictions.merge(m_opp_teams[['OppTeamID', 'OppTeamName']], how = 'left', on = 'OppTeamID')\n",
    "m_year_predictions['Pred'] = m_year_predictions['Pred'].round(2)\n",
    "m_final = m_year_predictions[['TeamName', 'OppTeamName', 'Loc', 'Pred']]\n",
    "m_final.to_json('m_predictions.json', orient='records')\n",
    "m_neutral = m_final[m_final['Loc'] == 0]\n",
    "m_home = m_final[m_final['Loc'] == 1]\n",
    "m_away = m_final[m_final['Loc'] == -1]\n",
    "m_neutral.to_json('m_neutral.json', orient='records')\n",
    "m_home.to_json('m_home.json', orient='records')\n",
    "m_away.to_json('m_away.json', orient='records')\n",
    "\n",
    "\n",
    "w_predictions = pd.read_csv('../stored_csvs/w_lr_model_predictions.csv')\n",
    "w_year_predictions = w_predictions[w_predictions['Season'] == 2025]\n",
    "w_teams = pd.read_csv('../kaggle_data/women/WTeams.csv')\n",
    "w_opp_teams = w_teams.copy().rename(columns = {'TeamID': 'OppTeamID', 'TeamName': 'OppTeamName'})\n",
    "w_year_predictions = w_year_predictions.merge(w_teams[['TeamID', 'TeamName']], how = 'left', on = 'TeamID')\n",
    "w_year_predictions = w_year_predictions.merge(w_opp_teams[['OppTeamID', 'OppTeamName']], how = 'left', on = 'OppTeamID')\n",
    "w_year_predictions['Pred'] = w_year_predictions['Pred'].round(2)\n",
    "w_final = w_year_predictions[['TeamName', 'OppTeamName', 'Loc', 'Pred']]\n",
    "w_neutral = w_final[w_final['Loc'] == 0]\n",
    "w_home = w_final[w_final['Loc'] == 1]\n",
    "w_away = w_final[w_final['Loc'] == -1]\n",
    "w_neutral.to_json('w_neutral.json', orient='records')\n",
    "w_home.to_json('w_home.json', orient='records')\n",
    "w_away.to_json('w_away.json', orient='records')\n"
   ],
   "id": "b7aeacaeddcd740a",
   "outputs": [
    {
     "data": {
      "text/plain": [
       "            TeamName       OppTeamName  Loc  Pred\n",
       "0        Abilene Chr         Air Force   -1  0.53\n",
       "1        Abilene Chr             Akron   -1  0.10\n",
       "2        Abilene Chr           Alabama   -1  0.00\n",
       "3        Abilene Chr       Alabama A&M   -1  0.90\n",
       "4        Abilene Chr        Alabama St   -1  0.55\n",
       "...              ...               ...  ...   ...\n",
       "396391  West Georgia  Southern Indiana    1  0.57\n",
       "396392  West Georgia         Stonehill    1  0.55\n",
       "396393  West Georgia    East Texas A&M    1  0.59\n",
       "396394  West Georgia          Le Moyne    1  0.70\n",
       "396395  West Georgia        Mercyhurst    1  0.58\n",
       "\n",
       "[396396 rows x 4 columns]"
      ],
      "text/html": [
       "<div>\n",
       "<style scoped>\n",
       "    .dataframe tbody tr th:only-of-type {\n",
       "        vertical-align: middle;\n",
       "    }\n",
       "\n",
       "    .dataframe tbody tr th {\n",
       "        vertical-align: top;\n",
       "    }\n",
       "\n",
       "    .dataframe thead th {\n",
       "        text-align: right;\n",
       "    }\n",
       "</style>\n",
       "<table border=\"1\" class=\"dataframe\">\n",
       "  <thead>\n",
       "    <tr style=\"text-align: right;\">\n",
       "      <th></th>\n",
       "      <th>TeamName</th>\n",
       "      <th>OppTeamName</th>\n",
       "      <th>Loc</th>\n",
       "      <th>Pred</th>\n",
       "    </tr>\n",
       "  </thead>\n",
       "  <tbody>\n",
       "    <tr>\n",
       "      <th>0</th>\n",
       "      <td>Abilene Chr</td>\n",
       "      <td>Air Force</td>\n",
       "      <td>-1</td>\n",
       "      <td>0.53</td>\n",
       "    </tr>\n",
       "    <tr>\n",
       "      <th>1</th>\n",
       "      <td>Abilene Chr</td>\n",
       "      <td>Akron</td>\n",
       "      <td>-1</td>\n",
       "      <td>0.10</td>\n",
       "    </tr>\n",
       "    <tr>\n",
       "      <th>2</th>\n",
       "      <td>Abilene Chr</td>\n",
       "      <td>Alabama</td>\n",
       "      <td>-1</td>\n",
       "      <td>0.00</td>\n",
       "    </tr>\n",
       "    <tr>\n",
       "      <th>3</th>\n",
       "      <td>Abilene Chr</td>\n",
       "      <td>Alabama A&amp;M</td>\n",
       "      <td>-1</td>\n",
       "      <td>0.90</td>\n",
       "    </tr>\n",
       "    <tr>\n",
       "      <th>4</th>\n",
       "      <td>Abilene Chr</td>\n",
       "      <td>Alabama St</td>\n",
       "      <td>-1</td>\n",
       "      <td>0.55</td>\n",
       "    </tr>\n",
       "    <tr>\n",
       "      <th>...</th>\n",
       "      <td>...</td>\n",
       "      <td>...</td>\n",
       "      <td>...</td>\n",
       "      <td>...</td>\n",
       "    </tr>\n",
       "    <tr>\n",
       "      <th>396391</th>\n",
       "      <td>West Georgia</td>\n",
       "      <td>Southern Indiana</td>\n",
       "      <td>1</td>\n",
       "      <td>0.57</td>\n",
       "    </tr>\n",
       "    <tr>\n",
       "      <th>396392</th>\n",
       "      <td>West Georgia</td>\n",
       "      <td>Stonehill</td>\n",
       "      <td>1</td>\n",
       "      <td>0.55</td>\n",
       "    </tr>\n",
       "    <tr>\n",
       "      <th>396393</th>\n",
       "      <td>West Georgia</td>\n",
       "      <td>East Texas A&amp;M</td>\n",
       "      <td>1</td>\n",
       "      <td>0.59</td>\n",
       "    </tr>\n",
       "    <tr>\n",
       "      <th>396394</th>\n",
       "      <td>West Georgia</td>\n",
       "      <td>Le Moyne</td>\n",
       "      <td>1</td>\n",
       "      <td>0.70</td>\n",
       "    </tr>\n",
       "    <tr>\n",
       "      <th>396395</th>\n",
       "      <td>West Georgia</td>\n",
       "      <td>Mercyhurst</td>\n",
       "      <td>1</td>\n",
       "      <td>0.58</td>\n",
       "    </tr>\n",
       "  </tbody>\n",
       "</table>\n",
       "<p>396396 rows × 4 columns</p>\n",
       "</div>"
      ]
     },
     "execution_count": 45,
     "metadata": {},
     "output_type": "execute_result"
    }
   ],
   "execution_count": 45
  },
  {
   "metadata": {
    "ExecuteTime": {
     "end_time": "2025-04-16T22:06:45.711713Z",
     "start_time": "2025-04-16T22:06:43.906210Z"
    }
   },
   "cell_type": "code",
   "source": [
    "def process_predictions(pred_path, teams_path, year, prefix):\n",
    "    # Load predictions and filter by year\n",
    "    predictions = pd.read_csv(pred_path)\n",
    "    predictions = predictions[predictions['Season'] == year]\n",
    "\n",
    "    # Load team names and create opponent mapping\n",
    "    teams = pd.read_csv(teams_path)\n",
    "    opp_teams = teams.rename(columns={'TeamID': 'OppTeamID', 'TeamName': 'OppTeamName'})\n",
    "\n",
    "    # Merge team and opponent names\n",
    "    predictions = predictions.merge(teams[['TeamID', 'TeamName']], on='TeamID', how='left')\n",
    "    predictions = predictions.merge(opp_teams[['OppTeamID', 'OppTeamName']], on='OppTeamID', how='left')\n",
    "\n",
    "    # Round prediction values and filter relevant columns\n",
    "    predictions['Pred'] = predictions['Pred'].round(2)\n",
    "    final_df = predictions[['TeamName', 'OppTeamName', 'Loc', 'Pred']]\n",
    "\n",
    "    # Save all and by location\n",
    "    final_df.to_json(f'{prefix}_predictions.json', orient='records')\n",
    "    final_df[final_df['Loc'] == 0].to_json(f'{prefix}_neutral.json', orient='records')\n",
    "    final_df[final_df['Loc'] == 1].to_json(f'{prefix}_home.json', orient='records')\n",
    "    final_df[final_df['Loc'] == -1].to_json(f'{prefix}_away.json', orient='records')\n",
    "\n",
    "# Run for men's and women's datasets\n",
    "process_predictions(\n",
    "    pred_path='../stored_csvs/m_lr_model_predictions.csv',\n",
    "    teams_path='../kaggle_data/men/MTeams.csv',\n",
    "    year=2025,\n",
    "    prefix='m'\n",
    ")\n",
    "\n",
    "process_predictions(\n",
    "    pred_path='../stored_csvs/w_lr_model_predictions.csv',\n",
    "    teams_path='../kaggle_data/women/WTeams.csv',\n",
    "    year=2025,\n",
    "    prefix='w'\n",
    ")"
   ],
   "id": "b62be15008d9b19a",
   "outputs": [],
   "execution_count": 47
  },
  {
   "metadata": {
    "ExecuteTime": {
     "end_time": "2025-04-16T21:48:20.040884Z",
     "start_time": "2025-04-16T21:48:19.993237Z"
    }
   },
   "cell_type": "code",
   "source": [
    "m_year_predictions = year_predictions[year_predictions['Side'] == 'Men']\n",
    "w_year_predictions = year_predictions[year_predictions['Side'] == 'Women']\n"
   ],
   "id": "e26e821eade626ea",
   "outputs": [],
   "execution_count": 33
  },
  {
   "metadata": {
    "ExecuteTime": {
     "end_time": "2025-04-16T21:48:20.825687Z",
     "start_time": "2025-04-16T21:48:20.515986Z"
    }
   },
   "cell_type": "code",
   "source": [
    "m_year_predictions.to_json('m_predictions.json', orient='records')\n",
    "w_year_predictions.to_json('w_predictions.json', orient='records')\n"
   ],
   "id": "d58a6aebd0b2add",
   "outputs": [],
   "execution_count": 34
  },
  {
   "metadata": {
    "ExecuteTime": {
     "end_time": "2025-04-16T22:08:36.332512Z",
     "start_time": "2025-04-16T22:08:36.329570Z"
    }
   },
   "cell_type": "code",
   "source": "w_final.columns",
   "id": "9ba9399042b4e20a",
   "outputs": [
    {
     "data": {
      "text/plain": [
       "Index(['TeamName', 'OppTeamName', 'Loc', 'Pred'], dtype='object')"
      ]
     },
     "execution_count": 49,
     "metadata": {},
     "output_type": "execute_result"
    }
   ],
   "execution_count": 49
  },
  {
   "metadata": {},
   "cell_type": "code",
   "outputs": [],
   "execution_count": null,
   "source": "",
   "id": "87c53c92a5a99d8e"
  }
 ],
 "metadata": {
  "kernelspec": {
   "display_name": "Python 3",
   "language": "python",
   "name": "python3"
  },
  "language_info": {
   "codemirror_mode": {
    "name": "ipython",
    "version": 2
   },
   "file_extension": ".py",
   "mimetype": "text/x-python",
   "name": "python",
   "nbconvert_exporter": "python",
   "pygments_lexer": "ipython2",
   "version": "2.7.6"
  }
 },
 "nbformat": 4,
 "nbformat_minor": 5
}
